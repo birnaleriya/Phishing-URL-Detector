{
 "cells": [
  {
   "cell_type": "code",
   "execution_count": 1,
   "id": "1a11b87d-36a1-499a-a5e4-74bfa6b34fcb",
   "metadata": {},
   "outputs": [],
   "source": [
    "import pickle\n",
    "import pandas as pd\n",
    "from feature_extraction import extract_url_features"
   ]
  },
  {
   "cell_type": "code",
   "execution_count": 3,
   "id": "d06c93b9-3ff4-4dc5-a0b8-6f1710192901",
   "metadata": {},
   "outputs": [],
   "source": [
    "with open('model.pkl', 'rb') as f:\n",
    "    model = pickle.load(f)"
   ]
  },
  {
   "cell_type": "code",
   "execution_count": 5,
   "id": "e023d76b-2e60-4c46-9be0-7462bd466c6d",
   "metadata": {},
   "outputs": [],
   "source": [
    "feature_names = [\n",
    " 'NumDots', 'SubdomainLevel', 'PathLevel', 'UrlLength', 'NumDash',\n",
    " 'NumDashInHostname', 'AtSymbol', 'TildeSymbol', 'NumUnderscore',\n",
    " 'NumPercent', 'NumQueryComponents', 'NumAmpersand', 'NumHash',\n",
    " 'NumNumericChars', 'NoHttps', 'RandomString', 'IpAddress',\n",
    " 'DomainInSubdomains', 'DomainInPaths', 'HttpsInHostname',\n",
    " 'HostnameLength', 'PathLength', 'QueryLength', 'DoubleSlashInPath',\n",
    " 'NumSensitiveWords', 'EmbeddedBrandName', 'PctExtHyperlinks',\n",
    " 'PctExtResourceUrls', 'ExtFavicon', 'InsecureForms',\n",
    " 'RelativeFormAction', 'ExtFormAction', 'AbnormalFormAction',\n",
    " 'PctNullSelfRedirectHyperlinks', 'FrequentDomainNameMismatch',\n",
    " 'FakeLinkInStatusBar', 'RightClickDisabled', 'PopUpWindow',\n",
    " 'SubmitInfoToEmail', 'IframeOrFrame', 'MissingTitle',\n",
    " 'ImagesOnlyInForm', 'SubdomainLevelRT', 'UrlLengthRT',\n",
    " 'PctExtResourceUrlsRT', 'AbnormalExtFormActionR',\n",
    " 'ExtMetaScriptLinkRT', 'PctExtNullSelfRedirectHyperlinksRT'\n",
    "]"
   ]
  },
  {
   "cell_type": "code",
   "execution_count": 7,
   "id": "07b58985-b1b4-47aa-960a-86f48ebd8ba7",
   "metadata": {},
   "outputs": [],
   "source": [
    "urls = [\n",
    "    \"http://paypal-account-update.com\",\n",
    "    \"http://secure-login.bankofamerica.verify-user.com\",\n",
    "    \"http://login-facebook-security.com/confirm\",\n",
    "    \"https://www.paypal.com\",\n",
    "    \"https://www.google.com\",\n",
    "    \"http://amazon-giftcard-prize.com\",\n",
    "    \"http://free-bitcoin-prize-now.com\",\n",
    "    \"https://www.microsoft.com\",\n",
    "    \"http://secure-appleid-login-confirm.com\",\n",
    "    \"https://www.amazon.in\",\n",
    "    \"http://your-bank-verify-login-details.com\",\n",
    "    \"https://www.netflix.com\"\n",
    "]"
   ]
  },
  {
   "cell_type": "code",
   "execution_count": 11,
   "id": "4b6e1f52-5145-4679-b029-587ff2a7340b",
   "metadata": {},
   "outputs": [
    {
     "name": "stdout",
     "output_type": "stream",
     "text": [
      "Testing URL: http://paypal-account-update.com\n",
      "Prediction: Legitimate\n",
      "\n",
      "Testing URL: http://secure-login.bankofamerica.verify-user.com\n",
      "Prediction: Phishing\n",
      "\n",
      "Testing URL: http://login-facebook-security.com/confirm\n",
      "Prediction: Phishing\n",
      "\n",
      "Testing URL: https://www.paypal.com\n",
      "Prediction: Legitimate\n",
      "\n",
      "Testing URL: https://www.google.com\n",
      "Prediction: Phishing\n",
      "\n",
      "Testing URL: http://amazon-giftcard-prize.com\n",
      "Prediction: Legitimate\n",
      "\n",
      "Testing URL: http://free-bitcoin-prize-now.com\n",
      "Prediction: Legitimate\n",
      "\n",
      "Testing URL: https://www.microsoft.com\n",
      "Prediction: Phishing\n",
      "\n",
      "Testing URL: http://secure-appleid-login-confirm.com\n",
      "Prediction: Legitimate\n",
      "\n",
      "Testing URL: https://www.amazon.in\n",
      "Prediction: Phishing\n",
      "\n",
      "Testing URL: http://your-bank-verify-login-details.com\n",
      "Prediction: Legitimate\n",
      "\n",
      "Testing URL: https://www.netflix.com\n",
      "Prediction: Legitimate\n",
      "\n"
     ]
    }
   ],
   "source": [
    "for url in urls:\n",
    "    print(f\"Testing URL: {url}\")\n",
    "\n",
    "    try:\n",
    "        features = extract_url_features(url)\n",
    "        \n",
    "        if len(features) != len(feature_names):\n",
    "            print(\"⚠ Feature length mismatch. Check feature_extraction.py logic.\\n\")\n",
    "            continue\n",
    "\n",
    "        features_df = pd.DataFrame([features], columns=feature_names)\n",
    "        prediction = model.predict(features_df)[0]\n",
    "        result = \"Phishing\" if prediction == 1 else \"Legitimate\"\n",
    "        print(f\"Prediction: {result}\\n\")\n",
    "    \n",
    "    except Exception as e:\n",
    "        print(f\"Error processing URL: {e}\\n\")"
   ]
  },
  {
   "cell_type": "code",
   "execution_count": null,
   "id": "9e22af2c-dc42-45dd-ae2b-ce5c2fb3305f",
   "metadata": {},
   "outputs": [],
   "source": []
  }
 ],
 "metadata": {
  "kernelspec": {
   "display_name": "Python [conda env:base] *",
   "language": "python",
   "name": "conda-base-py"
  },
  "language_info": {
   "codemirror_mode": {
    "name": "ipython",
    "version": 3
   },
   "file_extension": ".py",
   "mimetype": "text/x-python",
   "name": "python",
   "nbconvert_exporter": "python",
   "pygments_lexer": "ipython3",
   "version": "3.12.7"
  }
 },
 "nbformat": 4,
 "nbformat_minor": 5
}
